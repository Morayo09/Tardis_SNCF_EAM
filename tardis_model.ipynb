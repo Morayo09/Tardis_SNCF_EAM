{
 "cells": [
  {
   "cell_type": "code",
   "execution_count": null,
   "id": "0c8e9fc4",
   "metadata": {},
   "outputs": [],
   "source": [
    "import pandas as pd\n",
    "from sklearn.model_selection import train_test_split, GridSearchCV\n",
    "from sklearn.linear_model import LinearRegression\n",
    "from sklearn.ensemble import RandomForestRegressor\n",
    "from sklearn.metrics import root_mean_squared_error, r2_score, make_scorer\n",
    "\n",
    "#load dataset\n",
    "df = pd.read_csv(\"cleaned_dataset.csv\", sep=\",\")"
   ]
  },
  {
   "cell_type": "markdown",
   "id": "6dfea752",
   "metadata": {},
   "source": [
    "Select relevant features for training "
   ]
  },
  {
   "cell_type": "code",
   "execution_count": null,
   "id": "759aa278",
   "metadata": {},
   "outputs": [],
   "source": [
    "features = [\n",
    "    \"Number of scheduled trains\",\n",
    "    \"Number of cancelled trains\",\n",
    "    \"Number of trains delayed at departure\",\n",
    "    \"Average delay of late trains at departure\",\n",
    "    \"Average delay of all trains at departure\",\n",
    "    \"Number of trains delayed > 15min\",\n",
    "    \"Number of trains delayed > 30min\",\n",
    "    \"Number of trains delayed > 60min\",\n",
    "    \"Pct delay due to external causes\",\n",
    "    \"Pct delay due to infrastructure\",\n",
    "    \"Pct delay due to traffic management\",\n",
    "    \"Pct delay due to rolling stock\",\n",
    "    \"Pct delay due to station management and equipment reuse\",\n",
    "    \"Pct delay due to passenger handling (crowding, disabled persons, connections)\",\n",
    "    \"pct_delayed\",\n",
    "    \"pct_cancelled\",\n",
    "]\n",
    "\n",
    "# select features columns X and prediction column y\n",
    "X = df[features]\n",
    "y = df['Number of trains delayed at arrival']"
   ]
  },
  {
   "cell_type": "markdown",
   "id": "791c5710",
   "metadata": {},
   "source": [
    "Train a simple machine learning model using scikit-learn (Linear Regresssion)"
   ]
  },
  {
   "cell_type": "code",
   "execution_count": null,
   "id": "284503d7",
   "metadata": {},
   "outputs": [],
   "source": [
    "#split by train set and test set\n",
    "\n",
    "X_train, X_test, y_train, y_test = train_test_split(X, y, test_size=0.2, random_state=42)\n",
    "\n",
    "#create and train model\n",
    "\n",
    "model = LinearRegression()\n",
    "model.fit(X_train, y_train)\n",
    "\n",
    "#predict on the test set\n",
    "\n",
    "y_pred = model.predict(X_test)"
   ]
  },
  {
   "cell_type": "markdown",
   "id": "070274bc",
   "metadata": {},
   "source": [
    "Evaluate performance using metrics like RMSE, R², or accuracy"
   ]
  },
  {
   "cell_type": "code",
   "execution_count": null,
   "id": "441bec02",
   "metadata": {},
   "outputs": [],
   "source": [
    "print(\"Coefficients :\", model.coef_)\n",
    "print(\"Intercept :\", model.intercept_)\n",
    "print(\"RMSE :\", root_mean_squared_error(y_test, y_pred))\n",
    "print(\"R² :\", r2_score(y_test, y_pred))"
   ]
  },
  {
   "cell_type": "markdown",
   "id": "9a9f73ec",
   "metadata": {},
   "source": [
    "Compare different models and justify the selection of the best one(Random forest prediction)"
   ]
  },
  {
   "cell_type": "code",
   "execution_count": null,
   "id": "34debdf5",
   "metadata": {},
   "outputs": [],
   "source": [
    "\n",
    "X = df[features]\n",
    "y = df['Number of trains delayed at arrival']\n",
    "\n",
    "#split by train set and test set\n",
    "\n",
    "X_train, X_test, y_train, y_test = train_test_split(X, y, test_size=0.2, random_state=42)\n",
    "\n",
    "#create and train model\n",
    "rf_model = RandomForestRegressor(n_estimators=200, max_depth=None, random_state=42, n_jobs=-1)\n",
    "rf_model.fit(X_train, y_train)\n",
    "\n",
    "#predict on the test set\n",
    "y_pred = rf_model.predict(X_test)\n",
    "\n",
    "# Evaluate performance using metrics like RMSE, R², or accuracy\n",
    "\n",
    "print(\"RMSE :\", root_mean_squared_error(y_test, y_pred))\n",
    "print(\"R² :\", r2_score(y_test, y_pred))\n",
    "\n",
    "#Variables impact\n",
    "impact = pd.Series(rf_model.feature_importances_, index=features).sort_values(ascending=False)\n",
    "print(\"\\nColumns impact:\\n\", impact)\n"
   ]
  },
  {
   "cell_type": "markdown",
   "id": "6e8c7ad9",
   "metadata": {},
   "source": [
    "Tune hyperparameters to improve model performance\n"
   ]
  },
  {
   "cell_type": "code",
   "execution_count": null,
   "id": "3e6e39c6",
   "metadata": {},
   "outputs": [],
   "source": [
    "# basic model\n",
    "rf = RandomForestRegressor(random_state=42, n_jobs=-1)\n",
    "\n",
    "# list of values ​​that GridSearchCV should test\n",
    "param_grid = {\n",
    "    'n_estimators': [100, 200, 300],\n",
    "    'max_depth': [None, 10, 20],\n",
    "    'min_samples_split': [2, 5, 10],\n",
    "    'min_samples_leaf': [1, 2, 4],\n",
    "    'max_features': [None, 'sqrt']\n",
    "}\n",
    "\n",
    "# choose the metric\n",
    "\n",
    "scorer = make_scorer(r2_score)\n",
    "\n",
    "# begin and launch the research\n",
    "\n",
    "grid_search = GridSearchCV(\n",
    "    estimator=rf,\n",
    "    param_grid=param_grid,\n",
    "    scoring=scorer,\n",
    "    cv=5,\n",
    "    n_jobs=-1,\n",
    "    verbose=0\n",
    ")\n",
    "\n",
    "grid_search.fit(X_train, y_train)\n",
    "\n",
    "# see results\n",
    "\n",
    "print(\"Best parameters :\", grid_search.best_params_)\n",
    "print(\"Best R² :\", grid_search.best_score_)"
   ]
  }
 ],
 "metadata": {
  "kernelspec": {
   "display_name": ".venv (3.12.3)",
   "language": "python",
   "name": "python3"
  },
  "language_info": {
   "codemirror_mode": {
    "name": "ipython",
    "version": 3
   },
   "file_extension": ".py",
   "mimetype": "text/x-python",
   "name": "python",
   "nbconvert_exporter": "python",
   "pygments_lexer": "ipython3",
   "version": "3.12.3"
  }
 },
 "nbformat": 4,
 "nbformat_minor": 5
}
